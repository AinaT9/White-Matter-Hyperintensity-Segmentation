{
 "cells": [
  {
   "cell_type": "markdown",
   "metadata": {},
   "source": [
    "# Resultados DEMO"
   ]
  },
  {
   "cell_type": "markdown",
   "metadata": {},
   "source": [
    "En primer lugar probaremos la segmentación de una imagen en la demo de la página web.\n",
    "\n",
    "Slice 30 del dato 29 una FLAIR Y T1 de utrecht.\n",
    "SLICE 30 del dato  60 una FLAIR y t1 singapore"
   ]
  },
  {
   "cell_type": "markdown",
   "metadata": {},
   "source": [
    "Vamos a comenzar observando un corte transversal de una FLAIR proviniente de UTRECHT( en concreto la 29)\n",
    "<div style=\"display:flex; justify-content: space-around;\">\n",
    "    <img src=\"imagenSAM/FLAIRUTRECHT.png\" alt=\"GIF 1\" style=\"width:33%;\">\n",
    "    <img src=\"imagenSAM/MASKUTRECHT.png\" alt=\"GIF 2\" style=\"width:33%;\">\n",
    "</div>"
   ]
  },
  {
   "cell_type": "markdown",
   "metadata": {},
   "source": [
    "La demo nos permite 3 opciones para segmentar. La primera opción es HOVER AND CLICK. Solo detecta el fondo o el cerebro."
   ]
  },
  {
   "cell_type": "markdown",
   "metadata": {},
   "source": [
    "<div style=\"display:flex; justify-content: space-around;\">\n",
    "<img src=\"imagenSAM/HOVER&CLICK.gif\" alt=\"GIF 3\" style=\"width:50%;\">\n",
    "</div>"
   ]
  },
  {
   "cell_type": "markdown",
   "metadata": {},
   "source": [
    "La segunda opción es segment EVERYTHING:Segmenta el cerebro y una parte interior"
   ]
  },
  {
   "cell_type": "markdown",
   "metadata": {},
   "source": [
    "<div style=\"display:flex; justify-content: space-around;\">\n",
    "<img src=\"imagenSAM/Everythting.gif\" alt=\"GIF 3\" style=\"width:50%;\">\n",
    "</div>"
   ]
  },
  {
   "cell_type": "markdown",
   "metadata": {},
   "source": [
    "Y por último BOX, comenzamos haciendo una caja pequeña que nos permite ampliarla mediante una serie de puntos que hacen que podamos segmentar una de las manchas pero no de una forma tan definida."
   ]
  },
  {
   "cell_type": "markdown",
   "metadata": {},
   "source": [
    "<div style=\"display:flex; justify-content: space-around;\">\n",
    "<img src=\"imagenSAM/BOX.gif\" alt=\"GIF 3\" style=\"width:50%;\">\n",
    "</div>"
   ]
  },
  {
   "cell_type": "markdown",
   "metadata": {},
   "source": [
    "Vamos a probar con el correspondiente T1\n",
    "<div style=\"display:flex; justify-content: space-around;\">\n",
    "    <img src=\"imagenSAM/T1UTRECHT.png\" alt=\"GIF 1\" style=\"width:33%;\">\n",
    "    <img src=\"imagenSAM/MASKUTRECHT.png\" alt=\"GIF 2\" style=\"width:33%;\">\n",
    "</div>"
   ]
  },
  {
   "cell_type": "markdown",
   "metadata": {},
   "source": [
    "Mostramos el método Box porque los otros dos han producido los mismo resultados. El que mejor ha segmentado ha sido BOX. Gracias a la caja que se crea en un principio, se pueden ir añadiendo puntos para ampliar la máscar y otros para reducirla. Sin embargo, no es correcta totalmente."
   ]
  },
  {
   "cell_type": "markdown",
   "metadata": {},
   "source": [
    "<div style=\"display:flex; justify-content: space-around;\">\n",
    "<img src=\"imagenSAM/BOXT1.gif\" alt=\"GIF 3\" style=\"width:50%;\">\n",
    "</div>"
   ]
  }
 ],
 "metadata": {
  "language_info": {
   "name": "python"
  }
 },
 "nbformat": 4,
 "nbformat_minor": 2
}
