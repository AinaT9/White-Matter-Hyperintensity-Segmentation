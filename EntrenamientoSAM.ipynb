{
 "cells": [
  {
   "cell_type": "markdown",
   "metadata": {},
   "source": [
    "# Resultados DEMO"
   ]
  },
  {
   "cell_type": "markdown",
   "metadata": {},
   "source": [
    "En primer lugar probaremos la segmentación de una imagen en la demo de la página web.\n",
    "\n",
    "Slice 30 del dato 29 una FLAIR Y T1 de utrecht.\n",
    "SLICE 30 del dato  60 una FLAIR y t1 singapore"
   ]
  },
  {
   "cell_type": "markdown",
   "metadata": {},
   "source": [
    "Vamos a comenzar observando un corte transversal de una FLAIR proviniente de UTRECHT( en concreto la 29)\n",
    "<div style=\"display:flex; justify-content: space-around;\">\n",
    "    <img src=\"imagenSAM/FLAIRUTRECHT.png\" alt=\"GIF 1\" style=\"width:33%;\">\n",
    "    <img src=\"imagenSAM/MASKUTRECHT.png\" alt=\"GIF 2\" style=\"width:33%;\">\n",
    "</div>"
   ]
  },
  {
   "cell_type": "markdown",
   "metadata": {},
   "source": [
    "La demo nos permite 3 opciones para segmentar. La primera opción es HOVER AND CLICK. Solo detecta el fondo o el cerebro."
   ]
  },
  {
   "cell_type": "markdown",
   "metadata": {},
   "source": [
    "<div style=\"display:flex; justify-content: space-around;\">\n",
    "<img src=\"imagenSAM/HOVER&CLICK.gif\" alt=\"GIF 3\" style=\"width:50%;\">\n",
    "</div>"
   ]
  },
  {
   "cell_type": "markdown",
   "metadata": {},
   "source": [
    "La segunda opción es segment EVERYTHING:Segmenta el cerebro y una parte interior"
   ]
  },
  {
   "cell_type": "markdown",
   "metadata": {},
   "source": [
    "<div style=\"display:flex; justify-content: space-around;\">\n",
    "<img src=\"imagenSAM/Everythting.gif\" alt=\"GIF 3\" style=\"width:50%;\">\n",
    "</div>"
   ]
  },
  {
   "cell_type": "markdown",
   "metadata": {},
   "source": [
    "Y por último BOX, comenzamos haciendo una caja pequeña que nos permite ampliarla mediante una serie de puntos que hacen que podamos segmentar una de las manchas pero no de una forma tan definida."
   ]
  },
  {
   "cell_type": "markdown",
   "metadata": {},
   "source": [
    "<div style=\"display:flex; justify-content: space-around;\">\n",
    "<img src=\"imagenSAM/BOX.gif\" alt=\"GIF 3\" style=\"width:50%;\">\n",
    "</div>"
   ]
  },
  {
   "cell_type": "markdown",
   "metadata": {},
   "source": [
    "Vamos a probar con el correspondiente T1\n",
    "<div style=\"display:flex; justify-content: space-around;\">\n",
    "    <img src=\"imagenSAM/T1UTRECHT.png\" alt=\"GIF 1\" style=\"width:33%;\">\n",
    "    <img src=\"imagenSAM/MASKUTRECHT.png\" alt=\"GIF 2\" style=\"width:33%;\">\n",
    "</div>"
   ]
  },
  {
   "cell_type": "markdown",
   "metadata": {},
   "source": [
    "Mostramos el método Box porque los otros dos han producido los mismo resultados. El que mejor ha segmentado ha sido BOX. Gracias a la caja que se crea en un principio, se pueden ir añadiendo puntos para ampliar la máscar y otros para reducirla. Sin embargo, no es correcta totalmente."
   ]
  },
  {
   "cell_type": "markdown",
   "metadata": {},
   "source": [
    "<div style=\"display:flex; justify-content: space-around;\">\n",
    "<img src=\"imagenSAM/BOXT1.gif\" alt=\"GIF 3\" style=\"width:50%;\">\n",
    "</div>"
   ]
  },
  {
   "cell_type": "markdown",
   "metadata": {},
   "source": [
    "# Prueba en local "
   ]
  },
  {
   "cell_type": "code",
   "execution_count": 1,
   "metadata": {},
   "outputs": [
    {
     "name": "stderr",
     "output_type": "stream",
     "text": [
      "c:\\Users\\Aina\\miniconda3\\envs\\tfg_aina\\lib\\site-packages\\torchvision\\io\\image.py:13: UserWarning: Failed to load image Python extension: '[WinError 127] No se encontró el proceso especificado'If you don't plan on using image functionality from `torchvision.io`, you can ignore this warning. Otherwise, there might be something wrong with your environment. Did you have `libjpeg` or `libpng` installed before building `torchvision` from source?\n",
      "  warn(\n"
     ]
    }
   ],
   "source": [
    "import cv2\n",
    "import matplotlib.pyplot as plt\n",
    "import numpy as np\n",
    "import os\n",
    "import torch\n",
    "\n",
    "from segment_anything import SamAutomaticMaskGenerator, sam_model_registry"
   ]
  }
 ],
 "metadata": {
  "kernelspec": {
   "display_name": "Python 3",
   "language": "python",
   "name": "python3"
  },
  "language_info": {
   "codemirror_mode": {
    "name": "ipython",
    "version": 3
   },
   "file_extension": ".py",
   "mimetype": "text/x-python",
   "name": "python",
   "nbconvert_exporter": "python",
   "pygments_lexer": "ipython3",
   "version": "3.10.13"
  }
 },
 "nbformat": 4,
 "nbformat_minor": 2
}
